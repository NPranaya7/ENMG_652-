{
 "cells": [
  {
   "cell_type": "markdown",
   "id": "b9e01fb9",
   "metadata": {},
   "source": [
    "# MidTerm Project\n",
    "    - Narava Pranay Manikanta\n",
    "    - Date : 12/03/2022\n",
    "    - MT50255\n",
    "    \n",
    "**Applying the EDA techniques on the Baltimore_City_Employee_Salaries dataset.**"
   ]
  },
  {
   "cell_type": "markdown",
   "id": "01d36bbb",
   "metadata": {},
   "source": [
    "### 1.Reading Data.\n",
    "\n",
    "\n",
    "- **Importing Libraries.**"
   ]
  },
  {
   "cell_type": "code",
   "execution_count": 1,
   "id": "0c004129",
   "metadata": {},
   "outputs": [],
   "source": [
    "import pandas as pd\n",
    "import matplotlib.pyplot as plt\n",
    "import seaborn as sns\n",
    "import numpy as np"
   ]
  },
  {
   "cell_type": "markdown",
   "id": "474759f8",
   "metadata": {},
   "source": [
    "- **Reading Dataset of Baltimore_city Employee_salary.**"
   ]
  },
  {
   "cell_type": "code",
   "execution_count": 2,
   "id": "ef93b5ce",
   "metadata": {},
   "outputs": [
    {
     "data": {
      "text/html": [
       "<div>\n",
       "<style scoped>\n",
       "    .dataframe tbody tr th:only-of-type {\n",
       "        vertical-align: middle;\n",
       "    }\n",
       "\n",
       "    .dataframe tbody tr th {\n",
       "        vertical-align: top;\n",
       "    }\n",
       "\n",
       "    .dataframe thead th {\n",
       "        text-align: right;\n",
       "    }\n",
       "</style>\n",
       "<table border=\"1\" class=\"dataframe\">\n",
       "  <thead>\n",
       "    <tr style=\"text-align: right;\">\n",
       "      <th></th>\n",
       "      <th>lastName</th>\n",
       "      <th>middleInitial</th>\n",
       "      <th>firstName</th>\n",
       "      <th>jobClass</th>\n",
       "      <th>agencyName</th>\n",
       "      <th>agencyID</th>\n",
       "      <th>annualSalary</th>\n",
       "      <th>grossPay</th>\n",
       "      <th>hireDate</th>\n",
       "      <th>fiscalYear</th>\n",
       "      <th>ObjectId</th>\n",
       "    </tr>\n",
       "  </thead>\n",
       "  <tbody>\n",
       "    <tr>\n",
       "      <th>0</th>\n",
       "      <td>Aaron</td>\n",
       "      <td>D</td>\n",
       "      <td>Kareem</td>\n",
       "      <td>UTILITIES INST REPAIR II</td>\n",
       "      <td>Public Works - Water &amp; Waste Water</td>\n",
       "      <td>A50</td>\n",
       "      <td>34115.0</td>\n",
       "      <td>44557.99</td>\n",
       "      <td>2018-08-27</td>\n",
       "      <td>FY2021</td>\n",
       "      <td>1</td>\n",
       "    </tr>\n",
       "    <tr>\n",
       "      <th>1</th>\n",
       "      <td>Aaron</td>\n",
       "      <td>R</td>\n",
       "      <td>Lynda</td>\n",
       "      <td>ELECTION JUDGES REGULAR</td>\n",
       "      <td>D01</td>\n",
       "      <td>D01</td>\n",
       "      <td>0.0</td>\n",
       "      <td>185.00</td>\n",
       "      <td>2020-12-08</td>\n",
       "      <td>FY2021</td>\n",
       "      <td>2</td>\n",
       "    </tr>\n",
       "    <tr>\n",
       "      <th>2</th>\n",
       "      <td>Aaron</td>\n",
       "      <td>G</td>\n",
       "      <td>Patricia</td>\n",
       "      <td>FACILITIES/OFFICE SERVICES II</td>\n",
       "      <td>Mayor's Office of Employment Development</td>\n",
       "      <td>A03</td>\n",
       "      <td>63457.0</td>\n",
       "      <td>29461.96</td>\n",
       "      <td>1979-10-24</td>\n",
       "      <td>FY2021</td>\n",
       "      <td>3</td>\n",
       "    </tr>\n",
       "    <tr>\n",
       "      <th>3</th>\n",
       "      <td>Abadir</td>\n",
       "      <td>O</td>\n",
       "      <td>Adam</td>\n",
       "      <td>OPERATIONS OFFICER II</td>\n",
       "      <td>Health Department</td>\n",
       "      <td>A65</td>\n",
       "      <td>74299.0</td>\n",
       "      <td>85450.35</td>\n",
       "      <td>2016-12-12</td>\n",
       "      <td>FY2021</td>\n",
       "      <td>4</td>\n",
       "    </tr>\n",
       "    <tr>\n",
       "      <th>4</th>\n",
       "      <td>Abaku</td>\n",
       "      <td>O</td>\n",
       "      <td>Aigbolosimuan</td>\n",
       "      <td>POLICE OFFICER EID</td>\n",
       "      <td>Police Department</td>\n",
       "      <td>A99</td>\n",
       "      <td>68226.0</td>\n",
       "      <td>102775.97</td>\n",
       "      <td>2018-04-17</td>\n",
       "      <td>FY2021</td>\n",
       "      <td>5</td>\n",
       "    </tr>\n",
       "    <tr>\n",
       "      <th>...</th>\n",
       "      <td>...</td>\n",
       "      <td>...</td>\n",
       "      <td>...</td>\n",
       "      <td>...</td>\n",
       "      <td>...</td>\n",
       "      <td>...</td>\n",
       "      <td>...</td>\n",
       "      <td>...</td>\n",
       "      <td>...</td>\n",
       "      <td>...</td>\n",
       "      <td>...</td>\n",
       "    </tr>\n",
       "    <tr>\n",
       "      <th>154182</th>\n",
       "      <td>NaN</td>\n",
       "      <td>9</td>\n",
       "      <td>BPD</td>\n",
       "      <td>BPD</td>\n",
       "      <td>Police Department</td>\n",
       "      <td>A99</td>\n",
       "      <td>65499.0</td>\n",
       "      <td>64127.83</td>\n",
       "      <td>1970-01-01</td>\n",
       "      <td>FY2011</td>\n",
       "      <td>154183</td>\n",
       "    </tr>\n",
       "    <tr>\n",
       "      <th>154183</th>\n",
       "      <td>NaN</td>\n",
       "      <td>0</td>\n",
       "      <td>BPD</td>\n",
       "      <td>BPD</td>\n",
       "      <td>Police Department</td>\n",
       "      <td>A99</td>\n",
       "      <td>63384.0</td>\n",
       "      <td>66187.45</td>\n",
       "      <td>1970-01-01</td>\n",
       "      <td>FY2011</td>\n",
       "      <td>154184</td>\n",
       "    </tr>\n",
       "    <tr>\n",
       "      <th>154184</th>\n",
       "      <td>NaN</td>\n",
       "      <td>1</td>\n",
       "      <td>BPD</td>\n",
       "      <td>BPD</td>\n",
       "      <td>Police Department</td>\n",
       "      <td>A99</td>\n",
       "      <td>61102.0</td>\n",
       "      <td>71989.51</td>\n",
       "      <td>1970-01-01</td>\n",
       "      <td>FY2011</td>\n",
       "      <td>154185</td>\n",
       "    </tr>\n",
       "    <tr>\n",
       "      <th>154185</th>\n",
       "      <td>NaN</td>\n",
       "      <td>2</td>\n",
       "      <td>BPD</td>\n",
       "      <td>BPD</td>\n",
       "      <td>Police Department</td>\n",
       "      <td>A99</td>\n",
       "      <td>59958.0</td>\n",
       "      <td>53235.59</td>\n",
       "      <td>1970-01-01</td>\n",
       "      <td>FY2011</td>\n",
       "      <td>154186</td>\n",
       "    </tr>\n",
       "    <tr>\n",
       "      <th>154186</th>\n",
       "      <td>NaN</td>\n",
       "      <td>3</td>\n",
       "      <td>BPD</td>\n",
       "      <td>BPD</td>\n",
       "      <td>Police Department</td>\n",
       "      <td>A99</td>\n",
       "      <td>68523.0</td>\n",
       "      <td>95152.89</td>\n",
       "      <td>1970-01-01</td>\n",
       "      <td>FY2011</td>\n",
       "      <td>154187</td>\n",
       "    </tr>\n",
       "  </tbody>\n",
       "</table>\n",
       "<p>154187 rows × 11 columns</p>\n",
       "</div>"
      ],
      "text/plain": [
       "       lastName middleInitial      firstName                       jobClass  \\\n",
       "0         Aaron             D         Kareem       UTILITIES INST REPAIR II   \n",
       "1         Aaron             R          Lynda        ELECTION JUDGES REGULAR   \n",
       "2         Aaron             G       Patricia  FACILITIES/OFFICE SERVICES II   \n",
       "3        Abadir             O           Adam          OPERATIONS OFFICER II   \n",
       "4         Abaku             O  Aigbolosimuan             POLICE OFFICER EID   \n",
       "...         ...           ...            ...                            ...   \n",
       "154182      NaN             9            BPD                            BPD   \n",
       "154183      NaN             0            BPD                            BPD   \n",
       "154184      NaN             1            BPD                            BPD   \n",
       "154185      NaN             2            BPD                            BPD   \n",
       "154186      NaN             3            BPD                            BPD   \n",
       "\n",
       "                                      agencyName agencyID  annualSalary  \\\n",
       "0             Public Works - Water & Waste Water      A50       34115.0   \n",
       "1                                            D01      D01           0.0   \n",
       "2       Mayor's Office of Employment Development      A03       63457.0   \n",
       "3                              Health Department      A65       74299.0   \n",
       "4                              Police Department      A99       68226.0   \n",
       "...                                          ...      ...           ...   \n",
       "154182                         Police Department      A99       65499.0   \n",
       "154183                         Police Department      A99       63384.0   \n",
       "154184                         Police Department      A99       61102.0   \n",
       "154185                         Police Department      A99       59958.0   \n",
       "154186                         Police Department      A99       68523.0   \n",
       "\n",
       "         grossPay    hireDate fiscalYear  ObjectId  \n",
       "0        44557.99  2018-08-27     FY2021         1  \n",
       "1          185.00  2020-12-08     FY2021         2  \n",
       "2        29461.96  1979-10-24     FY2021         3  \n",
       "3        85450.35  2016-12-12     FY2021         4  \n",
       "4       102775.97  2018-04-17     FY2021         5  \n",
       "...           ...         ...        ...       ...  \n",
       "154182   64127.83  1970-01-01     FY2011    154183  \n",
       "154183   66187.45  1970-01-01     FY2011    154184  \n",
       "154184   71989.51  1970-01-01     FY2011    154185  \n",
       "154185   53235.59  1970-01-01     FY2011    154186  \n",
       "154186   95152.89  1970-01-01     FY2011    154187  \n",
       "\n",
       "[154187 rows x 11 columns]"
      ]
     },
     "execution_count": 2,
     "metadata": {},
     "output_type": "execute_result"
    }
   ],
   "source": [
    "df = pd.read_csv('Baltimore_City_Employee_Salaries.csv')\n",
    "df"
   ]
  },
  {
   "cell_type": "code",
   "execution_count": 3,
   "id": "4be42b2c",
   "metadata": {},
   "outputs": [
    {
     "data": {
      "text/html": [
       "<div>\n",
       "<style scoped>\n",
       "    .dataframe tbody tr th:only-of-type {\n",
       "        vertical-align: middle;\n",
       "    }\n",
       "\n",
       "    .dataframe tbody tr th {\n",
       "        vertical-align: top;\n",
       "    }\n",
       "\n",
       "    .dataframe thead th {\n",
       "        text-align: right;\n",
       "    }\n",
       "</style>\n",
       "<table border=\"1\" class=\"dataframe\">\n",
       "  <thead>\n",
       "    <tr style=\"text-align: right;\">\n",
       "      <th></th>\n",
       "      <th>lastName</th>\n",
       "      <th>middleInitial</th>\n",
       "      <th>firstName</th>\n",
       "      <th>jobClass</th>\n",
       "      <th>agencyName</th>\n",
       "      <th>agencyID</th>\n",
       "      <th>annualSalary</th>\n",
       "      <th>grossPay</th>\n",
       "      <th>hireDate</th>\n",
       "      <th>fiscalYear</th>\n",
       "      <th>ObjectId</th>\n",
       "    </tr>\n",
       "  </thead>\n",
       "  <tbody>\n",
       "    <tr>\n",
       "      <th>0</th>\n",
       "      <td>Aaron</td>\n",
       "      <td>D</td>\n",
       "      <td>Kareem</td>\n",
       "      <td>UTILITIES INST REPAIR II</td>\n",
       "      <td>Public Works - Water &amp; Waste Water</td>\n",
       "      <td>A50</td>\n",
       "      <td>34115.0</td>\n",
       "      <td>44557.99</td>\n",
       "      <td>2018-08-27</td>\n",
       "      <td>FY2021</td>\n",
       "      <td>1</td>\n",
       "    </tr>\n",
       "    <tr>\n",
       "      <th>1</th>\n",
       "      <td>Aaron</td>\n",
       "      <td>R</td>\n",
       "      <td>Lynda</td>\n",
       "      <td>ELECTION JUDGES REGULAR</td>\n",
       "      <td>D01</td>\n",
       "      <td>D01</td>\n",
       "      <td>0.0</td>\n",
       "      <td>185.00</td>\n",
       "      <td>2020-12-08</td>\n",
       "      <td>FY2021</td>\n",
       "      <td>2</td>\n",
       "    </tr>\n",
       "    <tr>\n",
       "      <th>2</th>\n",
       "      <td>Aaron</td>\n",
       "      <td>G</td>\n",
       "      <td>Patricia</td>\n",
       "      <td>FACILITIES/OFFICE SERVICES II</td>\n",
       "      <td>Mayor's Office of Employment Development</td>\n",
       "      <td>A03</td>\n",
       "      <td>63457.0</td>\n",
       "      <td>29461.96</td>\n",
       "      <td>1979-10-24</td>\n",
       "      <td>FY2021</td>\n",
       "      <td>3</td>\n",
       "    </tr>\n",
       "    <tr>\n",
       "      <th>3</th>\n",
       "      <td>Abadir</td>\n",
       "      <td>O</td>\n",
       "      <td>Adam</td>\n",
       "      <td>OPERATIONS OFFICER II</td>\n",
       "      <td>Health Department</td>\n",
       "      <td>A65</td>\n",
       "      <td>74299.0</td>\n",
       "      <td>85450.35</td>\n",
       "      <td>2016-12-12</td>\n",
       "      <td>FY2021</td>\n",
       "      <td>4</td>\n",
       "    </tr>\n",
       "    <tr>\n",
       "      <th>4</th>\n",
       "      <td>Abaku</td>\n",
       "      <td>O</td>\n",
       "      <td>Aigbolosimuan</td>\n",
       "      <td>POLICE OFFICER EID</td>\n",
       "      <td>Police Department</td>\n",
       "      <td>A99</td>\n",
       "      <td>68226.0</td>\n",
       "      <td>102775.97</td>\n",
       "      <td>2018-04-17</td>\n",
       "      <td>FY2021</td>\n",
       "      <td>5</td>\n",
       "    </tr>\n",
       "  </tbody>\n",
       "</table>\n",
       "</div>"
      ],
      "text/plain": [
       "  lastName middleInitial      firstName                       jobClass  \\\n",
       "0    Aaron             D         Kareem       UTILITIES INST REPAIR II   \n",
       "1    Aaron             R          Lynda        ELECTION JUDGES REGULAR   \n",
       "2    Aaron             G       Patricia  FACILITIES/OFFICE SERVICES II   \n",
       "3   Abadir             O           Adam          OPERATIONS OFFICER II   \n",
       "4    Abaku             O  Aigbolosimuan             POLICE OFFICER EID   \n",
       "\n",
       "                                 agencyName agencyID  annualSalary   grossPay  \\\n",
       "0        Public Works - Water & Waste Water      A50       34115.0   44557.99   \n",
       "1                                       D01      D01           0.0     185.00   \n",
       "2  Mayor's Office of Employment Development      A03       63457.0   29461.96   \n",
       "3                         Health Department      A65       74299.0   85450.35   \n",
       "4                         Police Department      A99       68226.0  102775.97   \n",
       "\n",
       "     hireDate fiscalYear  ObjectId  \n",
       "0  2018-08-27     FY2021         1  \n",
       "1  2020-12-08     FY2021         2  \n",
       "2  1979-10-24     FY2021         3  \n",
       "3  2016-12-12     FY2021         4  \n",
       "4  2018-04-17     FY2021         5  "
      ]
     },
     "execution_count": 3,
     "metadata": {},
     "output_type": "execute_result"
    }
   ],
   "source": [
    "df.head()"
   ]
  },
  {
   "cell_type": "code",
   "execution_count": 4,
   "id": "508135a2",
   "metadata": {},
   "outputs": [
    {
     "data": {
      "text/html": [
       "<div>\n",
       "<style scoped>\n",
       "    .dataframe tbody tr th:only-of-type {\n",
       "        vertical-align: middle;\n",
       "    }\n",
       "\n",
       "    .dataframe tbody tr th {\n",
       "        vertical-align: top;\n",
       "    }\n",
       "\n",
       "    .dataframe thead th {\n",
       "        text-align: right;\n",
       "    }\n",
       "</style>\n",
       "<table border=\"1\" class=\"dataframe\">\n",
       "  <thead>\n",
       "    <tr style=\"text-align: right;\">\n",
       "      <th></th>\n",
       "      <th>lastName</th>\n",
       "      <th>middleInitial</th>\n",
       "      <th>firstName</th>\n",
       "      <th>jobClass</th>\n",
       "      <th>agencyName</th>\n",
       "      <th>agencyID</th>\n",
       "      <th>annualSalary</th>\n",
       "      <th>grossPay</th>\n",
       "      <th>hireDate</th>\n",
       "      <th>fiscalYear</th>\n",
       "      <th>ObjectId</th>\n",
       "    </tr>\n",
       "  </thead>\n",
       "  <tbody>\n",
       "    <tr>\n",
       "      <th>154182</th>\n",
       "      <td>NaN</td>\n",
       "      <td>9</td>\n",
       "      <td>BPD</td>\n",
       "      <td>BPD</td>\n",
       "      <td>Police Department</td>\n",
       "      <td>A99</td>\n",
       "      <td>65499.0</td>\n",
       "      <td>64127.83</td>\n",
       "      <td>1970-01-01</td>\n",
       "      <td>FY2011</td>\n",
       "      <td>154183</td>\n",
       "    </tr>\n",
       "    <tr>\n",
       "      <th>154183</th>\n",
       "      <td>NaN</td>\n",
       "      <td>0</td>\n",
       "      <td>BPD</td>\n",
       "      <td>BPD</td>\n",
       "      <td>Police Department</td>\n",
       "      <td>A99</td>\n",
       "      <td>63384.0</td>\n",
       "      <td>66187.45</td>\n",
       "      <td>1970-01-01</td>\n",
       "      <td>FY2011</td>\n",
       "      <td>154184</td>\n",
       "    </tr>\n",
       "    <tr>\n",
       "      <th>154184</th>\n",
       "      <td>NaN</td>\n",
       "      <td>1</td>\n",
       "      <td>BPD</td>\n",
       "      <td>BPD</td>\n",
       "      <td>Police Department</td>\n",
       "      <td>A99</td>\n",
       "      <td>61102.0</td>\n",
       "      <td>71989.51</td>\n",
       "      <td>1970-01-01</td>\n",
       "      <td>FY2011</td>\n",
       "      <td>154185</td>\n",
       "    </tr>\n",
       "    <tr>\n",
       "      <th>154185</th>\n",
       "      <td>NaN</td>\n",
       "      <td>2</td>\n",
       "      <td>BPD</td>\n",
       "      <td>BPD</td>\n",
       "      <td>Police Department</td>\n",
       "      <td>A99</td>\n",
       "      <td>59958.0</td>\n",
       "      <td>53235.59</td>\n",
       "      <td>1970-01-01</td>\n",
       "      <td>FY2011</td>\n",
       "      <td>154186</td>\n",
       "    </tr>\n",
       "    <tr>\n",
       "      <th>154186</th>\n",
       "      <td>NaN</td>\n",
       "      <td>3</td>\n",
       "      <td>BPD</td>\n",
       "      <td>BPD</td>\n",
       "      <td>Police Department</td>\n",
       "      <td>A99</td>\n",
       "      <td>68523.0</td>\n",
       "      <td>95152.89</td>\n",
       "      <td>1970-01-01</td>\n",
       "      <td>FY2011</td>\n",
       "      <td>154187</td>\n",
       "    </tr>\n",
       "  </tbody>\n",
       "</table>\n",
       "</div>"
      ],
      "text/plain": [
       "       lastName middleInitial firstName jobClass         agencyName agencyID  \\\n",
       "154182      NaN             9       BPD      BPD  Police Department      A99   \n",
       "154183      NaN             0       BPD      BPD  Police Department      A99   \n",
       "154184      NaN             1       BPD      BPD  Police Department      A99   \n",
       "154185      NaN             2       BPD      BPD  Police Department      A99   \n",
       "154186      NaN             3       BPD      BPD  Police Department      A99   \n",
       "\n",
       "        annualSalary  grossPay    hireDate fiscalYear  ObjectId  \n",
       "154182       65499.0  64127.83  1970-01-01     FY2011    154183  \n",
       "154183       63384.0  66187.45  1970-01-01     FY2011    154184  \n",
       "154184       61102.0  71989.51  1970-01-01     FY2011    154185  \n",
       "154185       59958.0  53235.59  1970-01-01     FY2011    154186  \n",
       "154186       68523.0  95152.89  1970-01-01     FY2011    154187  "
      ]
     },
     "execution_count": 4,
     "metadata": {},
     "output_type": "execute_result"
    }
   ],
   "source": [
    "df.tail()"
   ]
  },
  {
   "cell_type": "code",
   "execution_count": 5,
   "id": "720ba9f8",
   "metadata": {},
   "outputs": [
    {
     "data": {
      "text/plain": [
       "(154187, 11)"
      ]
     },
     "execution_count": 5,
     "metadata": {},
     "output_type": "execute_result"
    }
   ],
   "source": [
    "df.shape"
   ]
  },
  {
   "cell_type": "code",
   "execution_count": 6,
   "id": "300422cc",
   "metadata": {
    "scrolled": true
   },
   "outputs": [
    {
     "name": "stdout",
     "output_type": "stream",
     "text": [
      "<class 'pandas.core.frame.DataFrame'>\n",
      "RangeIndex: 154187 entries, 0 to 154186\n",
      "Data columns (total 11 columns):\n",
      " #   Column         Non-Null Count   Dtype  \n",
      "---  ------         --------------   -----  \n",
      " 0   lastName       153777 non-null  object \n",
      " 1   middleInitial  121195 non-null  object \n",
      " 2   firstName      154187 non-null  object \n",
      " 3   jobClass       154003 non-null  object \n",
      " 4   agencyName     154187 non-null  object \n",
      " 5   agencyID       154187 non-null  object \n",
      " 6   annualSalary   154187 non-null  float64\n",
      " 7   grossPay       154187 non-null  float64\n",
      " 8   hireDate       154185 non-null  object \n",
      " 9   fiscalYear     154187 non-null  object \n",
      " 10  ObjectId       154187 non-null  int64  \n",
      "dtypes: float64(2), int64(1), object(8)\n",
      "memory usage: 12.9+ MB\n"
     ]
    }
   ],
   "source": [
    "df.info()"
   ]
  },
  {
   "cell_type": "markdown",
   "id": "40092bdf",
   "metadata": {},
   "source": [
    "- **Checking for No of Agency that present in Baltimore**"
   ]
  },
  {
   "cell_type": "code",
   "execution_count": 7,
   "id": "f7f44a24",
   "metadata": {},
   "outputs": [],
   "source": [
    "g_df = df.groupby(['agencyID','agencyName'])"
   ]
  },
  {
   "cell_type": "code",
   "execution_count": 8,
   "id": "d5b8131f",
   "metadata": {},
   "outputs": [
    {
     "name": "stdout",
     "output_type": "stream",
     "text": [
      "0 ('A01', \"Mayor's Office\")\n",
      "1 ('A02', 'City Council')\n",
      "2 ('A03', \"Mayor's Office of Employment Development\")\n",
      "3 ('A04', 'Recreation & Parks - Recreation')\n",
      "4 ('A06', 'Housing & Community Development')\n",
      "5 ('A08', \"Mayor's Office of Homeless Services\")\n",
      "6 ('A09', 'Liquor License Board')\n",
      "7 ('A10', 'MOCFS')\n",
      "8 ('A11', 'Office of the Inspector General')\n",
      "9 ('A12', 'Finance - Accounting & Payroll')\n",
      "10 ('A14', 'Finance - Collections')\n",
      "11 ('A15', 'Comptroller - Real Estate')\n",
      "12 ('A16', 'Comptroller')\n",
      "13 ('A17', 'Finance - Purchasing')\n",
      "14 ('A18', 'Finance - Treasury')\n",
      "15 ('A19', 'Planning')\n",
      "16 ('A23', 'Finance - Administration & Budgets')\n",
      "17 ('A24', 'Comptroller - Audits')\n",
      "18 ('A26', \"Labor Commissioner's Office\")\n",
      "19 ('A28', 'Wage Commissioner')\n",
      "20 ('A29', \"State's Attorney's Office\")\n",
      "21 ('A30', 'Law Department')\n",
      "22 ('A31', 'Courts - Circuit Court')\n",
      "23 ('A32', 'Finance - Risk Management')\n",
      "24 ('A33', 'Legislative Reference')\n",
      "25 ('A35', 'Elections')\n",
      "26 ('A37', \"Courts - Orphan's Court\")\n",
      "27 ('A38', \"Sheriff's Office\")\n",
      "28 ('A39', 'BCIT 311 Call Center')\n",
      "29 ('A40', 'Baltimore City Office of Information and Technology')\n",
      "30 ('A41', 'Public Works - Administration')\n",
      "31 ('A44', 'Cable & Communications')\n",
      "32 ('A46', 'Environmental Control Board')\n",
      "33 ('A49', 'Transportation - Highways')\n",
      "34 ('A50', 'Public Works - Water & Waste Water')\n",
      "35 ('A51', 'Community Relations (inactive)')\n",
      "36 ('A51', 'Office of Civil Rights and Wage Enforcement')\n",
      "37 ('A52', 'Retire - ERS/EOS')\n",
      "38 ('A53', 'FIN-RSP Admin (001)')\n",
      "39 ('A54', 'Retire - Fire & Police')\n",
      "40 ('A57', 'Councilmatic Services')\n",
      "41 ('A64', 'Fire Department')\n",
      "42 ('A65', 'Health Department')\n",
      "43 ('A67', 'Recreation & Parks - Administration')\n",
      "44 ('A68', 'Recreation & Parks - Parks')\n",
      "45 ('A70', 'Public Works - Solid Waste')\n",
      "46 ('A73', 'Municipal Zoning & Appeals')\n",
      "47 ('A75', 'Enoch Pratt Free Library')\n",
      "48 ('A83', 'Human Resources')\n",
      "49 ('A84', 'Transportation - Towing')\n",
      "50 ('A85', 'General Services')\n",
      "51 ('A86', 'War Memorial Commission')\n",
      "52 ('A88', 'Comptroller - Communication Services')\n",
      "53 ('A9', 'Police Department')\n",
      "54 ('A90', 'Transportation - Traffic')\n",
      "55 ('A91', 'Convention Center')\n",
      "56 ('A99', 'Police Department')\n",
      "57 ('B49', 'Transportation Highways')\n",
      "58 ('B68', 'Rec & Parks')\n",
      "59 ('B70', 'Public Works - Solid Waste (weekly)')\n",
      "60 ('BPD', 'BPD 1')\n",
      "61 ('C90', 'Transportation - Crossing Guards')\n",
      "62 ('D01', 'D01')\n",
      "63 ('P04', 'Rec & Parks (Part-Time)')\n",
      "64 ('P65', 'HLTH-Emergency Medical Team')\n",
      "65 ('P83', 'HR Test Monitor')\n",
      "66 ('R01', 'R01')\n",
      "67 ('SCS', 'SCS - Special City Services')\n",
      "68 ('U01', 'Una 01 (001)')\n",
      "69 ('W03', 'Youth Cust')\n",
      "70 ('W07', 'W07 - OED - Youth Works')\n",
      "71 ('W08', 'TANF Cust')\n"
     ]
    }
   ],
   "source": [
    "c = 0\n",
    "for i, group in g_df:\n",
    "    print(c,i)\n",
    "    #print(group['annualSalary'])\n",
    "    c = c + 1"
   ]
  },
  {
   "cell_type": "markdown",
   "id": "e7dbd49b",
   "metadata": {},
   "source": [
    "- **Checking for Null values in each Column.**"
   ]
  },
  {
   "cell_type": "code",
   "execution_count": 9,
   "id": "1ed98c00",
   "metadata": {},
   "outputs": [
    {
     "data": {
      "text/plain": [
       "True"
      ]
     },
     "execution_count": 9,
     "metadata": {},
     "output_type": "execute_result"
    }
   ],
   "source": [
    "df['lastName'].isna().values.any()"
   ]
  },
  {
   "cell_type": "code",
   "execution_count": 10,
   "id": "eb29846c",
   "metadata": {},
   "outputs": [
    {
     "data": {
      "text/html": [
       "<div>\n",
       "<style scoped>\n",
       "    .dataframe tbody tr th:only-of-type {\n",
       "        vertical-align: middle;\n",
       "    }\n",
       "\n",
       "    .dataframe tbody tr th {\n",
       "        vertical-align: top;\n",
       "    }\n",
       "\n",
       "    .dataframe thead th {\n",
       "        text-align: right;\n",
       "    }\n",
       "</style>\n",
       "<table border=\"1\" class=\"dataframe\">\n",
       "  <thead>\n",
       "    <tr style=\"text-align: right;\">\n",
       "      <th></th>\n",
       "      <th>lastName</th>\n",
       "      <th>middleInitial</th>\n",
       "      <th>firstName</th>\n",
       "      <th>jobClass</th>\n",
       "      <th>agencyName</th>\n",
       "      <th>agencyID</th>\n",
       "      <th>annualSalary</th>\n",
       "      <th>grossPay</th>\n",
       "      <th>hireDate</th>\n",
       "      <th>fiscalYear</th>\n",
       "      <th>ObjectId</th>\n",
       "    </tr>\n",
       "  </thead>\n",
       "  <tbody>\n",
       "    <tr>\n",
       "      <th>31063</th>\n",
       "      <td>NaN</td>\n",
       "      <td>1</td>\n",
       "      <td>BPD</td>\n",
       "      <td>BPD 1</td>\n",
       "      <td>BPD 1</td>\n",
       "      <td>BPD</td>\n",
       "      <td>76547.0</td>\n",
       "      <td>116220.67</td>\n",
       "      <td>2012-03-21</td>\n",
       "      <td>FY2020</td>\n",
       "      <td>31064</td>\n",
       "    </tr>\n",
       "    <tr>\n",
       "      <th>31067</th>\n",
       "      <td>NaN</td>\n",
       "      <td>0</td>\n",
       "      <td>BPD</td>\n",
       "      <td>BPD 10</td>\n",
       "      <td>BPD 1</td>\n",
       "      <td>BPD</td>\n",
       "      <td>82999.0</td>\n",
       "      <td>86300.99</td>\n",
       "      <td>2007-04-25</td>\n",
       "      <td>FY2020</td>\n",
       "      <td>31068</td>\n",
       "    </tr>\n",
       "    <tr>\n",
       "      <th>31069</th>\n",
       "      <td>NaN</td>\n",
       "      <td>1</td>\n",
       "      <td>BPD</td>\n",
       "      <td>BPD 11</td>\n",
       "      <td>BPD 1</td>\n",
       "      <td>BPD</td>\n",
       "      <td>87924.0</td>\n",
       "      <td>116628.37</td>\n",
       "      <td>2001-01-03</td>\n",
       "      <td>FY2020</td>\n",
       "      <td>31070</td>\n",
       "    </tr>\n",
       "    <tr>\n",
       "      <th>31075</th>\n",
       "      <td>NaN</td>\n",
       "      <td>2</td>\n",
       "      <td>BPD</td>\n",
       "      <td>BPD 12</td>\n",
       "      <td>BPD 1</td>\n",
       "      <td>BPD</td>\n",
       "      <td>101031.0</td>\n",
       "      <td>120131.04</td>\n",
       "      <td>2002-01-03</td>\n",
       "      <td>FY2020</td>\n",
       "      <td>31076</td>\n",
       "    </tr>\n",
       "    <tr>\n",
       "      <th>31080</th>\n",
       "      <td>NaN</td>\n",
       "      <td>3</td>\n",
       "      <td>BPD</td>\n",
       "      <td>BPD 13</td>\n",
       "      <td>BPD 1</td>\n",
       "      <td>BPD</td>\n",
       "      <td>92548.0</td>\n",
       "      <td>109394.45</td>\n",
       "      <td>1993-07-12</td>\n",
       "      <td>FY2020</td>\n",
       "      <td>31081</td>\n",
       "    </tr>\n",
       "    <tr>\n",
       "      <th>...</th>\n",
       "      <td>...</td>\n",
       "      <td>...</td>\n",
       "      <td>...</td>\n",
       "      <td>...</td>\n",
       "      <td>...</td>\n",
       "      <td>...</td>\n",
       "      <td>...</td>\n",
       "      <td>...</td>\n",
       "      <td>...</td>\n",
       "      <td>...</td>\n",
       "      <td>...</td>\n",
       "    </tr>\n",
       "    <tr>\n",
       "      <th>154182</th>\n",
       "      <td>NaN</td>\n",
       "      <td>9</td>\n",
       "      <td>BPD</td>\n",
       "      <td>BPD</td>\n",
       "      <td>Police Department</td>\n",
       "      <td>A99</td>\n",
       "      <td>65499.0</td>\n",
       "      <td>64127.83</td>\n",
       "      <td>1970-01-01</td>\n",
       "      <td>FY2011</td>\n",
       "      <td>154183</td>\n",
       "    </tr>\n",
       "    <tr>\n",
       "      <th>154183</th>\n",
       "      <td>NaN</td>\n",
       "      <td>0</td>\n",
       "      <td>BPD</td>\n",
       "      <td>BPD</td>\n",
       "      <td>Police Department</td>\n",
       "      <td>A99</td>\n",
       "      <td>63384.0</td>\n",
       "      <td>66187.45</td>\n",
       "      <td>1970-01-01</td>\n",
       "      <td>FY2011</td>\n",
       "      <td>154184</td>\n",
       "    </tr>\n",
       "    <tr>\n",
       "      <th>154184</th>\n",
       "      <td>NaN</td>\n",
       "      <td>1</td>\n",
       "      <td>BPD</td>\n",
       "      <td>BPD</td>\n",
       "      <td>Police Department</td>\n",
       "      <td>A99</td>\n",
       "      <td>61102.0</td>\n",
       "      <td>71989.51</td>\n",
       "      <td>1970-01-01</td>\n",
       "      <td>FY2011</td>\n",
       "      <td>154185</td>\n",
       "    </tr>\n",
       "    <tr>\n",
       "      <th>154185</th>\n",
       "      <td>NaN</td>\n",
       "      <td>2</td>\n",
       "      <td>BPD</td>\n",
       "      <td>BPD</td>\n",
       "      <td>Police Department</td>\n",
       "      <td>A99</td>\n",
       "      <td>59958.0</td>\n",
       "      <td>53235.59</td>\n",
       "      <td>1970-01-01</td>\n",
       "      <td>FY2011</td>\n",
       "      <td>154186</td>\n",
       "    </tr>\n",
       "    <tr>\n",
       "      <th>154186</th>\n",
       "      <td>NaN</td>\n",
       "      <td>3</td>\n",
       "      <td>BPD</td>\n",
       "      <td>BPD</td>\n",
       "      <td>Police Department</td>\n",
       "      <td>A99</td>\n",
       "      <td>68523.0</td>\n",
       "      <td>95152.89</td>\n",
       "      <td>1970-01-01</td>\n",
       "      <td>FY2011</td>\n",
       "      <td>154187</td>\n",
       "    </tr>\n",
       "  </tbody>\n",
       "</table>\n",
       "<p>410 rows × 11 columns</p>\n",
       "</div>"
      ],
      "text/plain": [
       "       lastName middleInitial firstName jobClass         agencyName agencyID  \\\n",
       "31063       NaN             1       BPD    BPD 1              BPD 1      BPD   \n",
       "31067       NaN             0       BPD   BPD 10              BPD 1      BPD   \n",
       "31069       NaN             1       BPD   BPD 11              BPD 1      BPD   \n",
       "31075       NaN             2       BPD   BPD 12              BPD 1      BPD   \n",
       "31080       NaN             3       BPD   BPD 13              BPD 1      BPD   \n",
       "...         ...           ...       ...      ...                ...      ...   \n",
       "154182      NaN             9       BPD      BPD  Police Department      A99   \n",
       "154183      NaN             0       BPD      BPD  Police Department      A99   \n",
       "154184      NaN             1       BPD      BPD  Police Department      A99   \n",
       "154185      NaN             2       BPD      BPD  Police Department      A99   \n",
       "154186      NaN             3       BPD      BPD  Police Department      A99   \n",
       "\n",
       "        annualSalary   grossPay    hireDate fiscalYear  ObjectId  \n",
       "31063        76547.0  116220.67  2012-03-21     FY2020     31064  \n",
       "31067        82999.0   86300.99  2007-04-25     FY2020     31068  \n",
       "31069        87924.0  116628.37  2001-01-03     FY2020     31070  \n",
       "31075       101031.0  120131.04  2002-01-03     FY2020     31076  \n",
       "31080        92548.0  109394.45  1993-07-12     FY2020     31081  \n",
       "...              ...        ...         ...        ...       ...  \n",
       "154182       65499.0   64127.83  1970-01-01     FY2011    154183  \n",
       "154183       63384.0   66187.45  1970-01-01     FY2011    154184  \n",
       "154184       61102.0   71989.51  1970-01-01     FY2011    154185  \n",
       "154185       59958.0   53235.59  1970-01-01     FY2011    154186  \n",
       "154186       68523.0   95152.89  1970-01-01     FY2011    154187  \n",
       "\n",
       "[410 rows x 11 columns]"
      ]
     },
     "execution_count": 10,
     "metadata": {},
     "output_type": "execute_result"
    }
   ],
   "source": [
    "df.loc[df.lastName.isna()]"
   ]
  },
  {
   "cell_type": "markdown",
   "id": "ed03f4c3",
   "metadata": {},
   "source": [
    "- **In LastName it contains some Null values so we are replaceing Null values with \"UNK\".**"
   ]
  },
  {
   "cell_type": "code",
   "execution_count": 11,
   "id": "a4dc02b0",
   "metadata": {},
   "outputs": [],
   "source": [
    "df.lastName.fillna('UNK', inplace=True)"
   ]
  },
  {
   "cell_type": "code",
   "execution_count": 12,
   "id": "630efa2e",
   "metadata": {},
   "outputs": [
    {
     "data": {
      "text/plain": [
       "0          Aaron\n",
       "1          Aaron\n",
       "2          Aaron\n",
       "3         Abadir\n",
       "4          Abaku\n",
       "           ...  \n",
       "154182       UNK\n",
       "154183       UNK\n",
       "154184       UNK\n",
       "154185       UNK\n",
       "154186       UNK\n",
       "Name: lastName, Length: 154187, dtype: object"
      ]
     },
     "execution_count": 12,
     "metadata": {},
     "output_type": "execute_result"
    }
   ],
   "source": [
    "df.lastName"
   ]
  },
  {
   "cell_type": "code",
   "execution_count": 13,
   "id": "6fd3b81d",
   "metadata": {},
   "outputs": [
    {
     "data": {
      "text/plain": [
       "False"
      ]
     },
     "execution_count": 13,
     "metadata": {},
     "output_type": "execute_result"
    }
   ],
   "source": [
    "df['lastName'].isna().values.any()"
   ]
  },
  {
   "cell_type": "code",
   "execution_count": null,
   "id": "08ee9730",
   "metadata": {},
   "outputs": [],
   "source": []
  },
  {
   "cell_type": "code",
   "execution_count": null,
   "id": "066ef02c",
   "metadata": {},
   "outputs": [],
   "source": []
  },
  {
   "cell_type": "code",
   "execution_count": 14,
   "id": "aa8a1d1b",
   "metadata": {},
   "outputs": [
    {
     "data": {
      "text/plain": [
       "True"
      ]
     },
     "execution_count": 14,
     "metadata": {},
     "output_type": "execute_result"
    }
   ],
   "source": [
    "df['middleInitial'].isna().values.any()"
   ]
  },
  {
   "cell_type": "code",
   "execution_count": 38,
   "id": "368b4d3e",
   "metadata": {},
   "outputs": [
    {
     "data": {
      "text/html": [
       "<div>\n",
       "<style scoped>\n",
       "    .dataframe tbody tr th:only-of-type {\n",
       "        vertical-align: middle;\n",
       "    }\n",
       "\n",
       "    .dataframe tbody tr th {\n",
       "        vertical-align: top;\n",
       "    }\n",
       "\n",
       "    .dataframe thead th {\n",
       "        text-align: right;\n",
       "    }\n",
       "</style>\n",
       "<table border=\"1\" class=\"dataframe\">\n",
       "  <thead>\n",
       "    <tr style=\"text-align: right;\">\n",
       "      <th></th>\n",
       "      <th>lastName</th>\n",
       "      <th>middleInitial</th>\n",
       "      <th>firstName</th>\n",
       "      <th>jobClass</th>\n",
       "      <th>agencyName</th>\n",
       "      <th>agencyID</th>\n",
       "      <th>annualSalary</th>\n",
       "      <th>grossPay</th>\n",
       "      <th>hireDate</th>\n",
       "      <th>fiscalYear</th>\n",
       "      <th>ObjectId</th>\n",
       "    </tr>\n",
       "  </thead>\n",
       "  <tbody>\n",
       "    <tr>\n",
       "      <th>5</th>\n",
       "      <td>Abbeduto</td>\n",
       "      <td>NaN</td>\n",
       "      <td>Mack</td>\n",
       "      <td>ASSISTANT STATE'S ATTORNEY</td>\n",
       "      <td>State's Attorney's Office</td>\n",
       "      <td>A29</td>\n",
       "      <td>72033.0</td>\n",
       "      <td>73367.20</td>\n",
       "      <td>2017-05-22</td>\n",
       "      <td>FY2021</td>\n",
       "      <td>6</td>\n",
       "    </tr>\n",
       "    <tr>\n",
       "      <th>6</th>\n",
       "      <td>Abbott-Cole</td>\n",
       "      <td>NaN</td>\n",
       "      <td>Michelle</td>\n",
       "      <td>OPERATIONS OFFICER III</td>\n",
       "      <td>Transportation - Traffic</td>\n",
       "      <td>A90</td>\n",
       "      <td>79827.0</td>\n",
       "      <td>81305.63</td>\n",
       "      <td>2014-11-28</td>\n",
       "      <td>FY2021</td>\n",
       "      <td>7</td>\n",
       "    </tr>\n",
       "    <tr>\n",
       "      <th>9</th>\n",
       "      <td>Abdrabou</td>\n",
       "      <td>NaN</td>\n",
       "      <td>Fouad</td>\n",
       "      <td>POLICE OFFICER</td>\n",
       "      <td>Police Department</td>\n",
       "      <td>A99</td>\n",
       "      <td>55117.0</td>\n",
       "      <td>41074.56</td>\n",
       "      <td>2020-08-25</td>\n",
       "      <td>FY2021</td>\n",
       "      <td>10</td>\n",
       "    </tr>\n",
       "    <tr>\n",
       "      <th>10</th>\n",
       "      <td>Abdul</td>\n",
       "      <td>NaN</td>\n",
       "      <td>Jalil</td>\n",
       "      <td>ENGINEER I</td>\n",
       "      <td>Public Works - Water &amp; Waste Water</td>\n",
       "      <td>A50</td>\n",
       "      <td>67771.0</td>\n",
       "      <td>69809.82</td>\n",
       "      <td>2017-07-17</td>\n",
       "      <td>FY2021</td>\n",
       "      <td>11</td>\n",
       "    </tr>\n",
       "    <tr>\n",
       "      <th>13</th>\n",
       "      <td>Abdul-Hamid</td>\n",
       "      <td>NaN</td>\n",
       "      <td>Umar</td>\n",
       "      <td>OPERATIONS TECH APPRENTICE</td>\n",
       "      <td>Public Works - Water &amp; Waste Water</td>\n",
       "      <td>A50</td>\n",
       "      <td>37822.0</td>\n",
       "      <td>62279.75</td>\n",
       "      <td>1995-01-17</td>\n",
       "      <td>FY2021</td>\n",
       "      <td>14</td>\n",
       "    </tr>\n",
       "    <tr>\n",
       "      <th>...</th>\n",
       "      <td>...</td>\n",
       "      <td>...</td>\n",
       "      <td>...</td>\n",
       "      <td>...</td>\n",
       "      <td>...</td>\n",
       "      <td>...</td>\n",
       "      <td>...</td>\n",
       "      <td>...</td>\n",
       "      <td>...</td>\n",
       "      <td>...</td>\n",
       "      <td>...</td>\n",
       "    </tr>\n",
       "    <tr>\n",
       "      <th>154097</th>\n",
       "      <td>Zhu</td>\n",
       "      <td>NaN</td>\n",
       "      <td>Qing</td>\n",
       "      <td>BUDGET/MANAGEMENT ANALYST III</td>\n",
       "      <td>Finance - Administration &amp; Budgets</td>\n",
       "      <td>A23</td>\n",
       "      <td>68500.0</td>\n",
       "      <td>43435.23</td>\n",
       "      <td>2004-10-01</td>\n",
       "      <td>FY2011</td>\n",
       "      <td>154098</td>\n",
       "    </tr>\n",
       "    <tr>\n",
       "      <th>154104</th>\n",
       "      <td>Zillmann</td>\n",
       "      <td>NaN</td>\n",
       "      <td>Josephine</td>\n",
       "      <td>DEPUTY SHERIFF</td>\n",
       "      <td>Sheriff's Office</td>\n",
       "      <td>A38</td>\n",
       "      <td>38981.0</td>\n",
       "      <td>38051.40</td>\n",
       "      <td>2008-05-01</td>\n",
       "      <td>FY2011</td>\n",
       "      <td>154105</td>\n",
       "    </tr>\n",
       "    <tr>\n",
       "      <th>154107</th>\n",
       "      <td>Zohios</td>\n",
       "      <td>NaN</td>\n",
       "      <td>John</td>\n",
       "      <td>POLICE OFFICER</td>\n",
       "      <td>Police Department</td>\n",
       "      <td>A99</td>\n",
       "      <td>42290.0</td>\n",
       "      <td>16427.97</td>\n",
       "      <td>2010-12-15</td>\n",
       "      <td>FY2011</td>\n",
       "      <td>154108</td>\n",
       "    </tr>\n",
       "    <tr>\n",
       "      <th>154110</th>\n",
       "      <td>Zucker</td>\n",
       "      <td>NaN</td>\n",
       "      <td>Heather</td>\n",
       "      <td>SALES MANAGER</td>\n",
       "      <td>Convention Center</td>\n",
       "      <td>A91</td>\n",
       "      <td>56500.0</td>\n",
       "      <td>46377.13</td>\n",
       "      <td>2007-10-18</td>\n",
       "      <td>FY2011</td>\n",
       "      <td>154111</td>\n",
       "    </tr>\n",
       "    <tr>\n",
       "      <th>154112</th>\n",
       "      <td>Zurek</td>\n",
       "      <td>NaN</td>\n",
       "      <td>Elizabeth</td>\n",
       "      <td>NURSE PRACTITIONER</td>\n",
       "      <td>Health Department</td>\n",
       "      <td>A65</td>\n",
       "      <td>73845.0</td>\n",
       "      <td>66745.30</td>\n",
       "      <td>2006-06-29</td>\n",
       "      <td>FY2011</td>\n",
       "      <td>154113</td>\n",
       "    </tr>\n",
       "  </tbody>\n",
       "</table>\n",
       "<p>32992 rows × 11 columns</p>\n",
       "</div>"
      ],
      "text/plain": [
       "           lastName middleInitial  firstName                       jobClass  \\\n",
       "5          Abbeduto           NaN       Mack     ASSISTANT STATE'S ATTORNEY   \n",
       "6       Abbott-Cole           NaN   Michelle         OPERATIONS OFFICER III   \n",
       "9          Abdrabou           NaN      Fouad                 POLICE OFFICER   \n",
       "10            Abdul           NaN      Jalil                     ENGINEER I   \n",
       "13      Abdul-Hamid           NaN       Umar     OPERATIONS TECH APPRENTICE   \n",
       "...             ...           ...        ...                            ...   \n",
       "154097          Zhu           NaN       Qing  BUDGET/MANAGEMENT ANALYST III   \n",
       "154104     Zillmann           NaN  Josephine                 DEPUTY SHERIFF   \n",
       "154107       Zohios           NaN       John                 POLICE OFFICER   \n",
       "154110       Zucker           NaN    Heather                  SALES MANAGER   \n",
       "154112        Zurek           NaN  Elizabeth             NURSE PRACTITIONER   \n",
       "\n",
       "                                agencyName agencyID  annualSalary  grossPay  \\\n",
       "5                State's Attorney's Office      A29       72033.0  73367.20   \n",
       "6                 Transportation - Traffic      A90       79827.0  81305.63   \n",
       "9                        Police Department      A99       55117.0  41074.56   \n",
       "10      Public Works - Water & Waste Water      A50       67771.0  69809.82   \n",
       "13      Public Works - Water & Waste Water      A50       37822.0  62279.75   \n",
       "...                                    ...      ...           ...       ...   \n",
       "154097  Finance - Administration & Budgets      A23       68500.0  43435.23   \n",
       "154104                    Sheriff's Office      A38       38981.0  38051.40   \n",
       "154107                   Police Department      A99       42290.0  16427.97   \n",
       "154110                   Convention Center      A91       56500.0  46377.13   \n",
       "154112                   Health Department      A65       73845.0  66745.30   \n",
       "\n",
       "          hireDate fiscalYear  ObjectId  \n",
       "5       2017-05-22     FY2021         6  \n",
       "6       2014-11-28     FY2021         7  \n",
       "9       2020-08-25     FY2021        10  \n",
       "10      2017-07-17     FY2021        11  \n",
       "13      1995-01-17     FY2021        14  \n",
       "...            ...        ...       ...  \n",
       "154097  2004-10-01     FY2011    154098  \n",
       "154104  2008-05-01     FY2011    154105  \n",
       "154107  2010-12-15     FY2011    154108  \n",
       "154110  2007-10-18     FY2011    154111  \n",
       "154112  2006-06-29     FY2011    154113  \n",
       "\n",
       "[32992 rows x 11 columns]"
      ]
     },
     "execution_count": 38,
     "metadata": {},
     "output_type": "execute_result"
    }
   ],
   "source": [
    "df.loc[df.middleInitial.isna()]"
   ]
  },
  {
   "cell_type": "markdown",
   "id": "66931de5",
   "metadata": {},
   "source": [
    "- **In middleintials column also contains some Null Values we are replacing Null values with the first name first letter.**"
   ]
  },
  {
   "cell_type": "code",
   "execution_count": 39,
   "id": "1a449c46",
   "metadata": {},
   "outputs": [],
   "source": [
    "midint = df['firstName'].astype(str).str[0]"
   ]
  },
  {
   "cell_type": "code",
   "execution_count": 40,
   "id": "105b52e0",
   "metadata": {},
   "outputs": [],
   "source": [
    "df.middleInitial.fillna(midint, inplace=True)"
   ]
  },
  {
   "cell_type": "code",
   "execution_count": 41,
   "id": "77ea0573",
   "metadata": {},
   "outputs": [
    {
     "data": {
      "text/plain": [
       "'M'"
      ]
     },
     "execution_count": 41,
     "metadata": {},
     "output_type": "execute_result"
    }
   ],
   "source": [
    "df.middleInitial[5]"
   ]
  },
  {
   "cell_type": "code",
   "execution_count": 42,
   "id": "a3d6662c",
   "metadata": {},
   "outputs": [
    {
     "data": {
      "text/plain": [
       "False"
      ]
     },
     "execution_count": 42,
     "metadata": {},
     "output_type": "execute_result"
    }
   ],
   "source": [
    "df['middleInitial'].isna().values.any()"
   ]
  },
  {
   "cell_type": "code",
   "execution_count": 20,
   "id": "461857ef",
   "metadata": {},
   "outputs": [
    {
     "data": {
      "text/plain": [
       "False"
      ]
     },
     "execution_count": 20,
     "metadata": {},
     "output_type": "execute_result"
    }
   ],
   "source": [
    "df['firstName'].isna().values.any()"
   ]
  },
  {
   "cell_type": "code",
   "execution_count": 21,
   "id": "662523fe",
   "metadata": {},
   "outputs": [
    {
     "data": {
      "text/plain": [
       "True"
      ]
     },
     "execution_count": 21,
     "metadata": {},
     "output_type": "execute_result"
    }
   ],
   "source": [
    "df['jobClass'].isna().values.any()"
   ]
  },
  {
   "cell_type": "code",
   "execution_count": 22,
   "id": "6418913a",
   "metadata": {},
   "outputs": [
    {
     "data": {
      "text/html": [
       "<div>\n",
       "<style scoped>\n",
       "    .dataframe tbody tr th:only-of-type {\n",
       "        vertical-align: middle;\n",
       "    }\n",
       "\n",
       "    .dataframe tbody tr th {\n",
       "        vertical-align: top;\n",
       "    }\n",
       "\n",
       "    .dataframe thead th {\n",
       "        text-align: right;\n",
       "    }\n",
       "</style>\n",
       "<table border=\"1\" class=\"dataframe\">\n",
       "  <thead>\n",
       "    <tr style=\"text-align: right;\">\n",
       "      <th></th>\n",
       "      <th>lastName</th>\n",
       "      <th>middleInitial</th>\n",
       "      <th>firstName</th>\n",
       "      <th>jobClass</th>\n",
       "      <th>agencyName</th>\n",
       "      <th>agencyID</th>\n",
       "      <th>annualSalary</th>\n",
       "      <th>grossPay</th>\n",
       "      <th>hireDate</th>\n",
       "      <th>fiscalYear</th>\n",
       "      <th>ObjectId</th>\n",
       "    </tr>\n",
       "  </thead>\n",
       "  <tbody>\n",
       "    <tr>\n",
       "      <th>152</th>\n",
       "      <td>Allen</td>\n",
       "      <td>NaN</td>\n",
       "      <td>Charles</td>\n",
       "      <td>NaN</td>\n",
       "      <td>Police Department</td>\n",
       "      <td>A99</td>\n",
       "      <td>0.0</td>\n",
       "      <td>200.00</td>\n",
       "      <td>2019-03-06</td>\n",
       "      <td>FY2021</td>\n",
       "      <td>153</td>\n",
       "    </tr>\n",
       "    <tr>\n",
       "      <th>160</th>\n",
       "      <td>Allen</td>\n",
       "      <td>NaN</td>\n",
       "      <td>Franklin</td>\n",
       "      <td>NaN</td>\n",
       "      <td>General Services</td>\n",
       "      <td>A85</td>\n",
       "      <td>0.0</td>\n",
       "      <td>49.00</td>\n",
       "      <td>2021-02-11</td>\n",
       "      <td>FY2021</td>\n",
       "      <td>161</td>\n",
       "    </tr>\n",
       "    <tr>\n",
       "      <th>281</th>\n",
       "      <td>Aka</td>\n",
       "      <td>NaN</td>\n",
       "      <td>Tongwa</td>\n",
       "      <td>NaN</td>\n",
       "      <td>Mayor's Office</td>\n",
       "      <td>A01</td>\n",
       "      <td>20.0</td>\n",
       "      <td>4804.68</td>\n",
       "      <td>2021-05-03</td>\n",
       "      <td>FY2021</td>\n",
       "      <td>282</td>\n",
       "    </tr>\n",
       "    <tr>\n",
       "      <th>377</th>\n",
       "      <td>Alvarez-Gibson</td>\n",
       "      <td>NaN</td>\n",
       "      <td>Aiko</td>\n",
       "      <td>NaN</td>\n",
       "      <td>City Council</td>\n",
       "      <td>A02</td>\n",
       "      <td>0.0</td>\n",
       "      <td>570.00</td>\n",
       "      <td>2021-06-14</td>\n",
       "      <td>FY2021</td>\n",
       "      <td>378</td>\n",
       "    </tr>\n",
       "    <tr>\n",
       "      <th>471</th>\n",
       "      <td>Barnes</td>\n",
       "      <td>S</td>\n",
       "      <td>Tonyae</td>\n",
       "      <td>NaN</td>\n",
       "      <td>W07 - OED - Youth Works</td>\n",
       "      <td>W07</td>\n",
       "      <td>0.0</td>\n",
       "      <td>282.00</td>\n",
       "      <td>2020-07-13</td>\n",
       "      <td>FY2021</td>\n",
       "      <td>472</td>\n",
       "    </tr>\n",
       "    <tr>\n",
       "      <th>...</th>\n",
       "      <td>...</td>\n",
       "      <td>...</td>\n",
       "      <td>...</td>\n",
       "      <td>...</td>\n",
       "      <td>...</td>\n",
       "      <td>...</td>\n",
       "      <td>...</td>\n",
       "      <td>...</td>\n",
       "      <td>...</td>\n",
       "      <td>...</td>\n",
       "      <td>...</td>\n",
       "    </tr>\n",
       "    <tr>\n",
       "      <th>13844</th>\n",
       "      <td>Winiarski</td>\n",
       "      <td>NaN</td>\n",
       "      <td>Dylan</td>\n",
       "      <td>NaN</td>\n",
       "      <td>Police Department</td>\n",
       "      <td>A99</td>\n",
       "      <td>0.0</td>\n",
       "      <td>400.00</td>\n",
       "      <td>2018-09-26</td>\n",
       "      <td>FY2021</td>\n",
       "      <td>13845</td>\n",
       "    </tr>\n",
       "    <tr>\n",
       "      <th>13894</th>\n",
       "      <td>Wood</td>\n",
       "      <td>NaN</td>\n",
       "      <td>Andre</td>\n",
       "      <td>NaN</td>\n",
       "      <td>Convention Center</td>\n",
       "      <td>A91</td>\n",
       "      <td>0.0</td>\n",
       "      <td>990.08</td>\n",
       "      <td>2021-03-25</td>\n",
       "      <td>FY2021</td>\n",
       "      <td>13895</td>\n",
       "    </tr>\n",
       "    <tr>\n",
       "      <th>13899</th>\n",
       "      <td>Winn</td>\n",
       "      <td>NaN</td>\n",
       "      <td>Jessica</td>\n",
       "      <td>NaN</td>\n",
       "      <td>Health Department</td>\n",
       "      <td>A65</td>\n",
       "      <td>0.0</td>\n",
       "      <td>654.08</td>\n",
       "      <td>2021-06-17</td>\n",
       "      <td>FY2021</td>\n",
       "      <td>13900</td>\n",
       "    </tr>\n",
       "    <tr>\n",
       "      <th>14103</th>\n",
       "      <td>Young</td>\n",
       "      <td>NaN</td>\n",
       "      <td>Khalia</td>\n",
       "      <td>NaN</td>\n",
       "      <td>Office of Civil Rights and Wage Enforcement</td>\n",
       "      <td>A51</td>\n",
       "      <td>0.0</td>\n",
       "      <td>6880.00</td>\n",
       "      <td>2021-01-25</td>\n",
       "      <td>FY2021</td>\n",
       "      <td>14104</td>\n",
       "    </tr>\n",
       "    <tr>\n",
       "      <th>14302</th>\n",
       "      <td>Wright III</td>\n",
       "      <td>E</td>\n",
       "      <td>Lewis</td>\n",
       "      <td>NaN</td>\n",
       "      <td>Police Department</td>\n",
       "      <td>A99</td>\n",
       "      <td>0.0</td>\n",
       "      <td>23192.10</td>\n",
       "      <td>2000-07-20</td>\n",
       "      <td>FY2021</td>\n",
       "      <td>14303</td>\n",
       "    </tr>\n",
       "  </tbody>\n",
       "</table>\n",
       "<p>184 rows × 11 columns</p>\n",
       "</div>"
      ],
      "text/plain": [
       "             lastName middleInitial firstName jobClass  \\\n",
       "152             Allen           NaN   Charles      NaN   \n",
       "160             Allen           NaN  Franklin      NaN   \n",
       "281               Aka           NaN    Tongwa      NaN   \n",
       "377    Alvarez-Gibson           NaN      Aiko      NaN   \n",
       "471            Barnes             S    Tonyae      NaN   \n",
       "...               ...           ...       ...      ...   \n",
       "13844       Winiarski           NaN     Dylan      NaN   \n",
       "13894            Wood           NaN     Andre      NaN   \n",
       "13899            Winn           NaN   Jessica      NaN   \n",
       "14103           Young           NaN    Khalia      NaN   \n",
       "14302      Wright III             E     Lewis      NaN   \n",
       "\n",
       "                                        agencyName agencyID  annualSalary  \\\n",
       "152                              Police Department      A99           0.0   \n",
       "160                               General Services      A85           0.0   \n",
       "281                                 Mayor's Office      A01          20.0   \n",
       "377                                   City Council      A02           0.0   \n",
       "471                        W07 - OED - Youth Works      W07           0.0   \n",
       "...                                            ...      ...           ...   \n",
       "13844                            Police Department      A99           0.0   \n",
       "13894                            Convention Center      A91           0.0   \n",
       "13899                            Health Department      A65           0.0   \n",
       "14103  Office of Civil Rights and Wage Enforcement      A51           0.0   \n",
       "14302                            Police Department      A99           0.0   \n",
       "\n",
       "       grossPay    hireDate fiscalYear  ObjectId  \n",
       "152      200.00  2019-03-06     FY2021       153  \n",
       "160       49.00  2021-02-11     FY2021       161  \n",
       "281     4804.68  2021-05-03     FY2021       282  \n",
       "377      570.00  2021-06-14     FY2021       378  \n",
       "471      282.00  2020-07-13     FY2021       472  \n",
       "...         ...         ...        ...       ...  \n",
       "13844    400.00  2018-09-26     FY2021     13845  \n",
       "13894    990.08  2021-03-25     FY2021     13895  \n",
       "13899    654.08  2021-06-17     FY2021     13900  \n",
       "14103   6880.00  2021-01-25     FY2021     14104  \n",
       "14302  23192.10  2000-07-20     FY2021     14303  \n",
       "\n",
       "[184 rows x 11 columns]"
      ]
     },
     "execution_count": 22,
     "metadata": {},
     "output_type": "execute_result"
    }
   ],
   "source": [
    "df.loc[df.jobClass.isna()]"
   ]
  },
  {
   "cell_type": "code",
   "execution_count": 23,
   "id": "b83c57b8",
   "metadata": {},
   "outputs": [],
   "source": [
    "df.jobClass.fillna(df.agencyName, inplace=True)"
   ]
  },
  {
   "cell_type": "code",
   "execution_count": 24,
   "id": "66a86bc8",
   "metadata": {},
   "outputs": [
    {
     "data": {
      "text/plain": [
       "False"
      ]
     },
     "execution_count": 24,
     "metadata": {},
     "output_type": "execute_result"
    }
   ],
   "source": [
    "df['jobClass'].isna().values.any()"
   ]
  },
  {
   "cell_type": "code",
   "execution_count": null,
   "id": "87a10f63",
   "metadata": {},
   "outputs": [],
   "source": []
  },
  {
   "cell_type": "code",
   "execution_count": 25,
   "id": "a2f96005",
   "metadata": {},
   "outputs": [
    {
     "data": {
      "text/plain": [
       "False"
      ]
     },
     "execution_count": 25,
     "metadata": {},
     "output_type": "execute_result"
    }
   ],
   "source": [
    "df['agencyID'].isna().values.any()"
   ]
  },
  {
   "cell_type": "code",
   "execution_count": 26,
   "id": "671fefec",
   "metadata": {},
   "outputs": [
    {
     "data": {
      "text/plain": [
       "False"
      ]
     },
     "execution_count": 26,
     "metadata": {},
     "output_type": "execute_result"
    }
   ],
   "source": [
    "df['agencyName'].isna().values.any()"
   ]
  },
  {
   "cell_type": "code",
   "execution_count": 27,
   "id": "45f272a9",
   "metadata": {},
   "outputs": [
    {
     "data": {
      "text/plain": [
       "False"
      ]
     },
     "execution_count": 27,
     "metadata": {},
     "output_type": "execute_result"
    }
   ],
   "source": [
    "df['annualSalary'].isna().values.any()"
   ]
  },
  {
   "cell_type": "code",
   "execution_count": 28,
   "id": "0c94a2ce",
   "metadata": {},
   "outputs": [
    {
     "data": {
      "text/plain": [
       "False"
      ]
     },
     "execution_count": 28,
     "metadata": {},
     "output_type": "execute_result"
    }
   ],
   "source": [
    "df['grossPay'].isna().values.any()"
   ]
  },
  {
   "cell_type": "code",
   "execution_count": 29,
   "id": "d946753f",
   "metadata": {},
   "outputs": [
    {
     "data": {
      "text/plain": [
       "True"
      ]
     },
     "execution_count": 29,
     "metadata": {},
     "output_type": "execute_result"
    }
   ],
   "source": [
    "df['hireDate'].isna().values.any()"
   ]
  },
  {
   "cell_type": "code",
   "execution_count": 43,
   "id": "59ecb172",
   "metadata": {},
   "outputs": [
    {
     "data": {
      "text/html": [
       "<div>\n",
       "<style scoped>\n",
       "    .dataframe tbody tr th:only-of-type {\n",
       "        vertical-align: middle;\n",
       "    }\n",
       "\n",
       "    .dataframe tbody tr th {\n",
       "        vertical-align: top;\n",
       "    }\n",
       "\n",
       "    .dataframe thead th {\n",
       "        text-align: right;\n",
       "    }\n",
       "</style>\n",
       "<table border=\"1\" class=\"dataframe\">\n",
       "  <thead>\n",
       "    <tr style=\"text-align: right;\">\n",
       "      <th></th>\n",
       "      <th>lastName</th>\n",
       "      <th>middleInitial</th>\n",
       "      <th>firstName</th>\n",
       "      <th>jobClass</th>\n",
       "      <th>agencyName</th>\n",
       "      <th>agencyID</th>\n",
       "      <th>annualSalary</th>\n",
       "      <th>grossPay</th>\n",
       "      <th>hireDate</th>\n",
       "      <th>fiscalYear</th>\n",
       "      <th>ObjectId</th>\n",
       "    </tr>\n",
       "  </thead>\n",
       "  <tbody>\n",
       "    <tr>\n",
       "      <th>5126</th>\n",
       "      <td>Greer</td>\n",
       "      <td>D</td>\n",
       "      <td>De’Ondre</td>\n",
       "      <td>SEASONAL MAINT AIDE</td>\n",
       "      <td>General Services</td>\n",
       "      <td>A85</td>\n",
       "      <td>14.0</td>\n",
       "      <td>2055.23</td>\n",
       "      <td>NaN</td>\n",
       "      <td>FY2021</td>\n",
       "      <td>5127</td>\n",
       "    </tr>\n",
       "    <tr>\n",
       "      <th>6097</th>\n",
       "      <td>Horsey</td>\n",
       "      <td>C</td>\n",
       "      <td>Rashad</td>\n",
       "      <td>POLICE OFFICER TRAINEE</td>\n",
       "      <td>Police Department</td>\n",
       "      <td>A99</td>\n",
       "      <td>55117.0</td>\n",
       "      <td>20857.58</td>\n",
       "      <td>NaN</td>\n",
       "      <td>FY2021</td>\n",
       "      <td>6098</td>\n",
       "    </tr>\n",
       "  </tbody>\n",
       "</table>\n",
       "</div>"
      ],
      "text/plain": [
       "     lastName middleInitial firstName                jobClass  \\\n",
       "5126    Greer             D  De’Ondre     SEASONAL MAINT AIDE   \n",
       "6097   Horsey             C   Rashad   POLICE OFFICER TRAINEE   \n",
       "\n",
       "             agencyName agencyID  annualSalary  grossPay hireDate fiscalYear  \\\n",
       "5126   General Services      A85          14.0   2055.23      NaN     FY2021   \n",
       "6097  Police Department      A99       55117.0  20857.58      NaN     FY2021   \n",
       "\n",
       "      ObjectId  \n",
       "5126      5127  \n",
       "6097      6098  "
      ]
     },
     "execution_count": 43,
     "metadata": {},
     "output_type": "execute_result"
    }
   ],
   "source": [
    "df.loc[df.hireDate.isna()]"
   ]
  },
  {
   "cell_type": "code",
   "execution_count": null,
   "id": "65f9e340",
   "metadata": {},
   "outputs": [],
   "source": []
  },
  {
   "cell_type": "code",
   "execution_count": 31,
   "id": "ea02681c",
   "metadata": {},
   "outputs": [
    {
     "data": {
      "text/plain": [
       "False"
      ]
     },
     "execution_count": 31,
     "metadata": {},
     "output_type": "execute_result"
    }
   ],
   "source": [
    "df['fiscalYear'].isna().values.any()"
   ]
  },
  {
   "cell_type": "code",
   "execution_count": 32,
   "id": "52f2c600",
   "metadata": {},
   "outputs": [
    {
     "data": {
      "text/plain": [
       "False"
      ]
     },
     "execution_count": 32,
     "metadata": {},
     "output_type": "execute_result"
    }
   ],
   "source": [
    "df['ObjectId'].isna().values.any()"
   ]
  },
  {
   "cell_type": "markdown",
   "id": "76d27b47",
   "metadata": {},
   "source": [
    "- **No of People in each Agency**"
   ]
  },
  {
   "cell_type": "code",
   "execution_count": 33,
   "id": "96f1bb1c",
   "metadata": {},
   "outputs": [],
   "source": [
    "NPD= pd.value_counts(df.agencyName)"
   ]
  },
  {
   "cell_type": "code",
   "execution_count": 34,
   "id": "4f3f5288",
   "metadata": {},
   "outputs": [
    {
     "data": {
      "text/plain": [
       "Police Department                     34707\n",
       "Fire Department                       18374\n",
       "Public Works - Water & Waste Water    16353\n",
       "Health Department                      9640\n",
       "Transportation - Highways              7007\n",
       "                                      ...  \n",
       "War Memorial Commission                   8\n",
       "Wage Commissioner                         3\n",
       "HLTH-Emergency Medical Team               3\n",
       "FIN-RSP Admin (001)                       2\n",
       "Una 01 (001)                              1\n",
       "Name: agencyName, Length: 71, dtype: int64"
      ]
     },
     "execution_count": 34,
     "metadata": {},
     "output_type": "execute_result"
    }
   ],
   "source": [
    "NPD"
   ]
  },
  {
   "cell_type": "code",
   "execution_count": null,
   "id": "ab6c0505",
   "metadata": {},
   "outputs": [],
   "source": []
  },
  {
   "cell_type": "code",
   "execution_count": 35,
   "id": "1f41e89f",
   "metadata": {},
   "outputs": [],
   "source": [
    "highestpay = g_df.annualSalary.max()\n",
    "Lowestpay = g_df.annualSalary.min()"
   ]
  },
  {
   "cell_type": "code",
   "execution_count": 36,
   "id": "ce073eca",
   "metadata": {},
   "outputs": [
    {
     "data": {
      "text/plain": [
       "agencyID  agencyName                              \n",
       "A01       Mayor's Office                              255000.0\n",
       "A02       City Council                                187200.0\n",
       "A03       Mayor's Office of Employment Development    152280.0\n",
       "A04       Recreation & Parks - Recreation              66747.0\n",
       "A06       Housing & Community Development             204729.0\n",
       "                                                        ...   \n",
       "SCS       SCS - Special City Services                  50000.0\n",
       "U01       Una 01 (001)                                     0.0\n",
       "W03       Youth Cust                                   16224.0\n",
       "W07       W07 - OED - Youth Works                      35000.0\n",
       "W08       TANF Cust                                    15080.0\n",
       "Name: annualSalary, Length: 72, dtype: float64"
      ]
     },
     "execution_count": 36,
     "metadata": {},
     "output_type": "execute_result"
    }
   ],
   "source": [
    "highestpay"
   ]
  },
  {
   "cell_type": "code",
   "execution_count": 37,
   "id": "44f382a1",
   "metadata": {
    "scrolled": true
   },
   "outputs": [
    {
     "data": {
      "text/plain": [
       "agencyID  agencyName                              \n",
       "A01       Mayor's Office                                  0.0\n",
       "A02       City Council                                    0.0\n",
       "A03       Mayor's Office of Employment Development        0.0\n",
       "A04       Recreation & Parks - Recreation                 0.0\n",
       "A06       Housing & Community Development                 0.0\n",
       "                                                       ...   \n",
       "SCS       SCS - Special City Services                  2484.0\n",
       "U01       Una 01 (001)                                    0.0\n",
       "W03       Youth Cust                                  15080.0\n",
       "W07       W07 - OED - Youth Works                         0.0\n",
       "W08       TANF Cust                                   15080.0\n",
       "Name: annualSalary, Length: 72, dtype: float64"
      ]
     },
     "execution_count": 37,
     "metadata": {},
     "output_type": "execute_result"
    }
   ],
   "source": [
    "Lowestpay"
   ]
  },
  {
   "cell_type": "code",
   "execution_count": null,
   "id": "3bc7b679",
   "metadata": {},
   "outputs": [],
   "source": []
  }
 ],
 "metadata": {
  "kernelspec": {
   "display_name": "Python 3 (ipykernel)",
   "language": "python",
   "name": "python3"
  },
  "language_info": {
   "codemirror_mode": {
    "name": "ipython",
    "version": 3
   },
   "file_extension": ".py",
   "mimetype": "text/x-python",
   "name": "python",
   "nbconvert_exporter": "python",
   "pygments_lexer": "ipython3",
   "version": "3.9.7"
  }
 },
 "nbformat": 4,
 "nbformat_minor": 5
}
